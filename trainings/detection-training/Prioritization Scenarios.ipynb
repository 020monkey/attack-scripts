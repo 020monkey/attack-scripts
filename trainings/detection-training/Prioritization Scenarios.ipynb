{
 "cells": [
  {
   "cell_type": "markdown",
   "metadata": {},
   "source": [
    "# Prioritizing Detection Using ATT&CK and the Navigator\n",
    "\n",
    "We're going to use the ATT&CK Navigator to overlay some layers and start to prioritize what we want to detect. This is a simplistic approach based on selecting a set of adversaries in the navigator and relying on mapping a threat report."
   ]
  },
  {
   "cell_type": "markdown",
   "metadata": {},
   "source": [
    "## Scoring Existing Adversaries\n",
    "\n",
    "ATT&CK itself already has a set of threat intelligence mapped and accessible in the navigator. We can use that CTI in order to select all techniques that we've seen specific adversary groups use.\n",
    "\n",
    "In this case, let's select and score APT1 and APT3.\n",
    "\n",
    "1. Open up the [ATT&CK Navigator](https://mitre-attack.github.io/attack-navigator/enterprise/).\n",
    "2. Our threat model includes APT1 and APT3. How would you show that in a heatmap?\n",
    "3. To be safe, download the JSON to save it for later.\n",
    "\n",
    "*Consider: What are the downsides of this approach?*"
   ]
  },
  {
   "cell_type": "markdown",
   "metadata": {},
   "source": [
    "# Adding Additional Internal or Local CTI\n",
    "\n",
    "Create a new layer, and select the techniques you see in the following threat report, which impacts your sector and was active over the past summer.\n",
    "\n",
    "**Note: MITRE's ATT&CK for CTI training discusses how to map threat reports into ATT&CK in order to arrive at this list of techniques. We didn't want to duplicate that training, so have simply provided a list.**\n",
    "\n",
    "* Credential Dumping: https://attack.mitre.org/techniques/T1003/ \n",
    "* Bypass User Account Control: https://attack.mitre.org/techniques/T1088/  \n",
    "* Powershell: https://attack.mitre.org/techniques/T1086/ \n",
    "* NTFS File Attributes: https://attack.mitre.org/techniques/T1096/\n",
    "* File Permissions Modification: https://attack.mitre.org/techniques/T1222/  \n",
    "* Indicator Removal from Host: https://attack.mitre.org/techniques/T1070/\n",
    "\n",
    "*Consider: What extra threat information, in addition to the techniques, would be helpful at building detections?*"
   ]
  },
  {
   "cell_type": "markdown",
   "metadata": {},
   "source": [
    "# Developing our Priorities\n",
    "\n",
    "We need to combine these layers into one set of priorities. We can do that by creating a new layer as a function of previous layers.\n",
    "\n",
    "1. Making sure to have the APT1/APT3 layer in the navigator and the new custom layer in the navigator, hit the plus to create a new layer.\n",
    "2. Adjust the formula and scoring so that you get prioritized detections. How would you weight these different sets of intelligence? What are your top techniques?"
   ]
  }
 ],
 "metadata": {
  "kernelspec": {
   "display_name": "detection-training",
   "language": "python",
   "name": "detection-training"
  },
  "language_info": {
   "codemirror_mode": {
    "name": "ipython",
    "version": 3
   },
   "file_extension": ".py",
   "mimetype": "text/x-python",
   "name": "python",
   "nbconvert_exporter": "python",
   "pygments_lexer": "ipython3",
   "version": "3.7.1"
  }
 },
 "nbformat": 4,
 "nbformat_minor": 2
}

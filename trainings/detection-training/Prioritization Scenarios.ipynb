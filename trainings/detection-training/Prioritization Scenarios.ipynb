{
 "cells": [
  {
   "cell_type": "markdown",
   "metadata": {},
   "source": [
    "# Prioritizing Using ATT&CK and the Navigator\n",
    "\n",
    "1. Open up the [ATT&CK Navigator](https://mitre-attack.github.io/attack-navigator/enterprise/).\n",
    "2. Select all of the techniques for APT1 and APT3.\n",
    "3. Assign them a score."
   ]
  },
  {
   "attachments": {},
   "cell_type": "markdown",
   "metadata": {},
   "source": [
    "# Adding Additional Internal or Local CTI\n",
    "\n",
    "Create a new layer, and select the techniques you see in the following threat report, which impacts your sector and was active over the past summer.\n",
    "\n",
    "* Credential Dumping: https://attack.mitre.org/techniques/T1003/ \n",
    "* Bypass User Account Control: https://attack.mitre.org/techniques/T1088/  \n",
    "* Powershell: https://attack.mitre.org/techniques/T1086/ \n",
    "* NTFS File Attributes: https://attack.mitre.org/techniques/T1096/\n",
    "* File Permissions Modification: https://attack.mitre.org/techniques/T1222/  \n",
    "* Indicator Blocking: https://attack.mitre.org/techniques/T1054/"
   ]
  },
  {
   "cell_type": "markdown",
   "metadata": {},
   "source": [
    "# Developing our Priorities\n",
    "\n",
    "We need to combine these layers into one set of priorities.\n",
    "\n",
    "1. Create a new layer as a function on previous layers.\n",
    "2. Adjust the formula and scoring so that you get prioritized detections.\n",
    "\n",
    "BONUS:\n",
    "1. What if you want to weight the recent incidents higher?\n"
   ]
  },
  {
   "cell_type": "markdown",
   "metadata": {},
   "source": [
    "# Formulate our detection strategy\n",
    "\n",
    "Let's assume we want to detect the techniques used in the recent Blue Panda campaign. How would we see which techniques we could cover given our data sources?\n",
    "\n",
    "What other changes might we want to make?"
   ]
  },
  {
   "cell_type": "code",
   "execution_count": null,
   "metadata": {},
   "outputs": [],
   "source": []
  }
 ],
 "metadata": {
  "kernelspec": {
   "display_name": "detection-training",
   "language": "python",
   "name": "detection-training"
  },
  "language_info": {
   "codemirror_mode": {
    "name": "ipython",
    "version": 3
   },
   "file_extension": ".py",
   "mimetype": "text/x-python",
   "name": "python",
   "nbconvert_exporter": "python",
   "pygments_lexer": "ipython3",
   "version": "3.7.1"
  }
 },
 "nbformat": 4,
 "nbformat_minor": 2
}

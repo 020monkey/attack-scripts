{
 "cells": [
  {
   "cell_type": "markdown",
   "metadata": {},
   "source": [
    "# Data Source Investigation\n",
    "\n",
    "Let's use the [ATT&CK Python Client](https://github.com/hunters-forge/ATTACK-Python-Client) to manually examine the techniques, list the data sources, and build a heatmap out of our selected sources.\n",
    "\n",
    "If you're looking for less development or a more in-depth and finely-grained dive, check out:\n",
    "\n",
    "* [DeTTACK](https://github.com/rabobank-cdc/DeTTECT)\n",
    "* [AttackDatamap](https://github.com/olafhartong/ATTACKdatamap)\n",
    "\n",
    "*Consider: What have you used to track data sources? What has worked well, and what has not worked so well?*"
   ]
  },
  {
   "cell_type": "code",
   "execution_count": null,
   "metadata": {},
   "outputs": [],
   "source": [
    "# Import the packages we'll need\n",
    "\n",
    "# Some basic python and jupyter stuff\n",
    "from collections import defaultdict\n",
    "import json\n",
    "from IPython.display import FileLink, FileLinks\n",
    "\n",
    "# Visualization and data libraries\n",
    "import altair as alt\n",
    "import pandas as pd\n",
    "\n",
    "# ATT&CK Python Client, by @HuntersForge (https://github.com/hunters-forge/ATTACK-Python-Client)\n",
    "from attackcti import attack_client\n",
    "\n",
    "# Because this is in Jupyter notebooks we need to enable that renderer for the altair charts to work\n",
    "alt.renderers.enable('notebook')"
   ]
  },
  {
   "cell_type": "markdown",
   "metadata": {},
   "source": [
    "## Get the ATT&CK Enterprise techniques using the client library"
   ]
  },
  {
   "cell_type": "code",
   "execution_count": null,
   "metadata": {},
   "outputs": [],
   "source": [
    "client = attack_client()\n",
    "all_techniques = client.get_enterprise()['techniques'] # Note - this takes a few seconds to download and parse\n",
    "\n",
    "print(\"Got {} techniques\".format(len(all_techniques)))"
   ]
  },
  {
   "cell_type": "markdown",
   "metadata": {},
   "source": [
    "## Analyze the data sources and build a chart to understand the most valuable ones\n",
    "\n",
    "We'll build up a dictionary that counts data sources by the number of techniques they can help detect."
   ]
  },
  {
   "cell_type": "code",
   "execution_count": null,
   "metadata": {},
   "outputs": [],
   "source": [
    "# Collect unique data sources from the techniques\n",
    "techniques_by_source = defaultdict(lambda: {'count': 0, 'techniques': []})\n",
    "\n",
    "# Loop through all techniques, then through all data sources on that technique\n",
    "for technique in all_techniques:\n",
    "    for ds in technique.get('x_mitre_data_sources', []):\n",
    "        techniques_by_source[ds]['count'] += 1\n",
    "        # External_ID in the first external reference is the T#### number\n",
    "        techniques_by_source[ds]['techniques'].append(technique.external_references[0].external_id)"
   ]
  },
  {
   "cell_type": "code",
   "execution_count": null,
   "metadata": {},
   "outputs": [],
   "source": [
    "# Create a pandas dataframe out of that result and show count column for the top 15\n",
    "df = pd.DataFrame.from_dict(techniques_by_source, orient='index', columns=['count', 'techniques']).rename_axis('source')\n",
    "top_15 = df.sort_values('count', ascending=False)[0:15]\n",
    "top_15[['count']]"
   ]
  },
  {
   "cell_type": "markdown",
   "metadata": {},
   "source": [
    "## Show the chart in altair\n",
    "\n",
    "Altair can be used to easily turn pandas dataframes into visualizations. In this case, we just show a histogram that you can scan."
   ]
  },
  {
   "cell_type": "code",
   "execution_count": null,
   "metadata": {},
   "outputs": [],
   "source": [
    "df.reset_index()\n",
    "\n",
    "alt.Chart(df.reset_index().sort_values('count', ascending=False)).mark_bar().encode(\n",
    "    y=alt.Y(\n",
    "        'source',\n",
    "        sort=alt.EncodingSortField(\n",
    "            field=\"count\",\n",
    "            order=\"descending\"\n",
    "        )\n",
    "    ),\n",
    "    x='count'\n",
    ")"
   ]
  },
  {
   "cell_type": "markdown",
   "metadata": {},
   "source": [
    "## Advanced Filtering (BONUS)\n",
    "\n",
    "How would you alter this chart to only consider some techniques? Maybe (peeking ahead) we have a list of threat actors or techniques we want to prioritize? Can you generate a chart that prioritizes techniques used by APT1 or APT3?"
   ]
  },
  {
   "cell_type": "code",
   "execution_count": null,
   "metadata": {},
   "outputs": [],
   "source": [
    "# TODO: Your code to show a similar chart for APT1 and APT3"
   ]
  },
  {
   "cell_type": "markdown",
   "metadata": {},
   "source": [
    "## Building a Heatmap\n",
    "\n",
    "But what if you only have certain data already, and don't have flexibility to add different ones? That's the case for our exercise! How do you know what techniques you can detect based on that?\n",
    "\n",
    "We can generate a heatmap based on the data we created earlier. We can map the data sources we know we have into the data sources here."
   ]
  },
  {
   "cell_type": "code",
   "execution_count": null,
   "metadata": {},
   "outputs": [],
   "source": [
    "# First, list the data sources alphabetically so we can figure out which ones we have\n",
    "\n",
    "df.sort_index()[['count']]"
   ]
  },
  {
   "cell_type": "markdown",
   "metadata": {},
   "source": [
    "### List the data sources that are available\n",
    "\n",
    "In the list below, add the data sources that we have available in BRAWL. As a reminder, we have:\n",
    "* Sysmon\n",
    "* Windows event logs (common security , authentication, and audit logs)"
   ]
  },
  {
   "cell_type": "code",
   "execution_count": null,
   "metadata": {},
   "outputs": [],
   "source": [
    "# Case sensitive!!!\n",
    "sources_we_have = [\n",
    "    '' # e.g. 'Web proxy'\n",
    "]"
   ]
  },
  {
   "cell_type": "markdown",
   "metadata": {},
   "source": [
    "### Calculate out the techniques for which we have some detection capability"
   ]
  },
  {
   "cell_type": "code",
   "execution_count": null,
   "metadata": {},
   "outputs": [],
   "source": [
    "techniques = defaultdict(lambda: 0)\n",
    "\n",
    "for ds in sources_we_have:\n",
    "    for technique in techniques_by_source[ds]['techniques']:\n",
    "        techniques[technique] += 1"
   ]
  },
  {
   "cell_type": "code",
   "execution_count": null,
   "metadata": {},
   "outputs": [],
   "source": [
    "print(\"You can detect {} out of {} techniques\".format(len(techniques), len(all_techniques)))"
   ]
  },
  {
   "cell_type": "markdown",
   "metadata": {},
   "source": [
    "### Generate the heatmap"
   ]
  },
  {
   "cell_type": "code",
   "execution_count": null,
   "metadata": {},
   "outputs": [],
   "source": [
    "# Generate that heatmap!\n",
    "\n",
    "def technique_score(t):\n",
    "    if t not in techniques:\n",
    "        return 0.0\n",
    "    elif techniques[t] > 1:\n",
    "        return 1.0\n",
    "    else: # count of sources == 1\n",
    "        return 0.5\n",
    "\n",
    "heatmap = {\n",
    "    'version': \"2.1\",\n",
    "    'name': 'Detection Possibilities',\n",
    "    'domain': \"mitre-enterprise\",\n",
    "    'showTacticRowBackground': True,\n",
    "    'gradient': {\n",
    "        'colors': [\n",
    "            '#ffffff',\n",
    "            '#66b1ff'\n",
    "        ],\n",
    "        'minValue': 0.0,\n",
    "        'maxValue': 1.0\n",
    "    },\n",
    "    'techniques': [{'techniqueID': t, 'score': technique_score(t)} for t in techniques]\n",
    "}"
   ]
  },
  {
   "cell_type": "code",
   "execution_count": null,
   "metadata": {},
   "outputs": [],
   "source": [
    "# Write as a JSON file and show a download link\n",
    "with open('data_sources.json', 'w') as f:\n",
    "    f.write(json.dumps(heatmap))\n",
    "    \n",
    "FileLink('data_sources.json')"
   ]
  },
  {
   "cell_type": "markdown",
   "metadata": {},
   "source": [
    "# Overlaying Priorities with Data Sources\n",
    "\n",
    "The reason we collect data is of course to help us detect attacks, so let's see how the data that we've collected measures up.\n",
    "\n",
    "How would you do this?\n",
    "\n",
    "How would you show gaps in data source coverage?"
   ]
  },
  {
   "cell_type": "code",
   "execution_count": null,
   "metadata": {},
   "outputs": [],
   "source": []
  }
 ],
 "metadata": {
  "kernelspec": {
   "display_name": "detection-training",
   "language": "python",
   "name": "detection-training"
  },
  "language_info": {
   "codemirror_mode": {
    "name": "ipython",
    "version": 3
   },
   "file_extension": ".py",
   "mimetype": "text/x-python",
   "name": "python",
   "nbconvert_exporter": "python",
   "pygments_lexer": "ipython3",
   "version": "3.7.1"
  }
 },
 "nbformat": 4,
 "nbformat_minor": 2
}
